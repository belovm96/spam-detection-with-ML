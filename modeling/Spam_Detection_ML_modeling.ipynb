{
 "cells": [
  {
   "cell_type": "markdown",
   "metadata": {},
   "source": [
    "## ML modeling on Enron1 dataset - Spam Detection\n",
    "&nbsp;&nbsp;&nbsp;&nbsp;&nbsp;The primary purpose of this notebook is to build four machine learning models - SVM, Logistic Regression, Random Forest and Naive Bayes, and evaluate their performance for the task of text classification. The performance analysis includes the discussion of the possible reasons for low/high accuracy, precision, recall and a short summary of the confusion matrices generated on the 20% test subset of the dataset.\\\n",
    "&nbsp;&nbsp;&nbsp;&nbsp;&nbsp;I am expecting to get the best performance metrics using SVM classifier as it handles highly sparse data particularly well by design - SVMs use Kernel trick to get the dot product of the features in high-dimensional spaces, which is a great advantage when dealing with a dataset with 1000+ features. As long as the data is linearly separable in some n-dimensional space, the number of features does not constrain SVM's performance.\\\n",
    "&nbsp;&nbsp;&nbsp;&nbsp;&nbsp;Since our dataset is imbalanced, I believe that Naive Bayes will not be able to do a good job detecting spam emails, since they are only 30% of the dataset. Naive Bayes classifier tends to be biased when it comes to such imbalances, and it will most likely misclassify a lot of spam emails as non-spam ones."
   ]
  },
  {
   "cell_type": "code",
   "execution_count": 2,
   "metadata": {},
   "outputs": [],
   "source": [
    "import pandas as pd\n",
    "import seaborn as sns\n",
    "import matplotlib.pyplot as plt\n",
    "from sklearn.linear_model import LogisticRegression\n",
    "from sklearn.ensemble import RandomForestClassifier\n",
    "from sklearn.naive_bayes import GaussianNB\n",
    "from sklearn.svm import SVC\n",
    "from sklearn.model_selection import GridSearchCV\n",
    "from sklearn import preprocessing\n",
    "from sklearn.model_selection import train_test_split\n",
    "from sklearn.metrics import accuracy_score, classification_report, confusion_matrix\n",
    "%matplotlib inline"
   ]
  },
  {
   "cell_type": "code",
   "execution_count": 3,
   "metadata": {},
   "outputs": [],
   "source": [
    "df = pd.read_csv('tfidf_dataset.csv')\n",
    "df.drop('Unnamed: 0', axis=1, inplace = True)"
   ]
  },
  {
   "cell_type": "code",
   "execution_count": 4,
   "metadata": {},
   "outputs": [],
   "source": [
    "y = df['label']\n",
    "X = df.drop('label', axis=1)\n",
    "X_train, X_test, y_train, y_test = train_test_split(X, y, test_size=0.20, random_state=15)"
   ]
  },
  {
   "cell_type": "markdown",
   "metadata": {},
   "source": [
    "Before feeding the dataset for training of the ML models, it is necessary to scale the features to zero mean and unit variance. Scaling is especially important for the SVM classifier, since without scaling the features SVM's training time increases dramatically."
   ]
  },
  {
   "cell_type": "code",
   "execution_count": 6,
   "metadata": {},
   "outputs": [],
   "source": [
    "train = X_train.to_numpy()\n",
    "train = preprocessing.scale(train) \n",
    "test = X_test.to_numpy()\n",
    "test = preprocessing.scale(test) \n",
    "train_l = y_train.to_numpy()\n",
    "test_l =  y_test.to_numpy()"
   ]
  },
  {
   "cell_type": "markdown",
   "metadata": {},
   "source": [
    "Let's use grid search for finding the optimal parameters for the proposed ML classifiers and train the classifiers with the parameters determined by grid search."
   ]
  },
  {
   "cell_type": "code",
   "execution_count": 7,
   "metadata": {},
   "outputs": [
    {
     "name": "stdout",
     "output_type": "stream",
     "text": [
      "\n",
      "Best hyperparameters: {'C': 1.0, 'penalty': 'l2', 'solver': 'lbfgs'}\n",
      "Accuracy: 0.9723435225618632\n"
     ]
    }
   ],
   "source": [
    "lr = LogisticRegression(verbose=0)\n",
    "\n",
    "grid = {\"C\": [float(i) for i in range(1, 4)], \"penalty\":[\"l2\"], \"solver\":[ 'lbfgs', 'liblinear']}\n",
    "logreg_cv = GridSearchCV(lr, grid, cv=4)\n",
    "logreg_cv.fit(train, train_l)\n",
    "\n",
    "print(\"\\nBest hyperparameters:\", logreg_cv.best_params_)\n",
    "print(\"Accuracy:\", logreg_cv.best_score_)"
   ]
  },
  {
   "cell_type": "code",
   "execution_count": 8,
   "metadata": {},
   "outputs": [
    {
     "name": "stdout",
     "output_type": "stream",
     "text": [
      "LR Test Accuracy: 95.635305528613\n"
     ]
    }
   ],
   "source": [
    "lr = LogisticRegression(solver='lbfgs', penalty ='l2' , C = 1.0)\n",
    "lr.fit(train, train_l)\n",
    "\n",
    "pred_lr = lr.predict(test)\n",
    "print('LR Test Accuracy:', accuracy_score(test_l, pred_lr) * 100)"
   ]
  },
  {
   "cell_type": "code",
   "execution_count": 9,
   "metadata": {},
   "outputs": [
    {
     "name": "stdout",
     "output_type": "stream",
     "text": [
      "\n",
      "Best hyperparameters: {'C': 10, 'gamma': 0.0001, 'kernel': 'rbf'}\n",
      "Accuracy: 0.9687045123726347\n"
     ]
    }
   ],
   "source": [
    "svc = SVC(verbose=0)\n",
    "grid = [{'kernel': ['rbf'], 'gamma': [1e-3, 1e-4], 'C': [1, 10, 100, 1000]},\n",
    "        {'kernel': ['linear'], 'C': [1, 10, 100, 1000]}]\n",
    "svm_cv = GridSearchCV(svc, grid, cv=5)\n",
    "svm_cv.fit(train, train_l)\n",
    "\n",
    "print(\"\\nBest hyperparameters:\", svm_cv.best_params_)\n",
    "print(\"Accuracy:\", svm_cv.best_score_)"
   ]
  },
  {
   "cell_type": "code",
   "execution_count": 10,
   "metadata": {},
   "outputs": [
    {
     "name": "stdout",
     "output_type": "stream",
     "text": [
      "SVM Test Accuracy: 96.5082444228904\n"
     ]
    }
   ],
   "source": [
    "svm = SVC(C=10, gamma=0.0001, kernel='rbf')\n",
    "svm.fit(train, train_l)\n",
    "\n",
    "pred_svm = svm.predict(test)\n",
    "print('SVM Test Accuracy:', accuracy_score(test_l, pred_svm) * 100)"
   ]
  },
  {
   "cell_type": "code",
   "execution_count": 11,
   "metadata": {},
   "outputs": [
    {
     "name": "stdout",
     "output_type": "stream",
     "text": [
      "\n",
      "Best hyperparameters: {'class_weight': 'balanced', 'criterion': 'gini', 'max_depth': 1000, 'n_estimators': 200}\n",
      "Accuracy: 0.9713731198447355\n"
     ]
    }
   ],
   "source": [
    "RF = RandomForestClassifier(verbose=0)\n",
    "grid = {'n_estimators': [100, 200, 400], 'criterion': ['entropy', 'gini'],\n",
    "        'max_depth': [50, 100, 500, 1000], 'class_weight': ['balanced']}\n",
    "\n",
    "rf_cv = GridSearchCV(RF, grid, cv=5)\n",
    "rf_cv.fit(train, train_l)\n",
    "\n",
    "print(\"\\nBest hyperparameters:\", rf_cv.best_params_)\n",
    "print(\"Accuracy:\", rf_cv.best_score_)"
   ]
  },
  {
   "cell_type": "code",
   "execution_count": 12,
   "metadata": {},
   "outputs": [
    {
     "name": "stdout",
     "output_type": "stream",
     "text": [
      "RF Test Accuracy: 96.99321047526674\n"
     ]
    }
   ],
   "source": [
    "RF = RandomForestClassifier(class_weight='balanced', criterion='gini', max_depth=1000, n_estimators=100)\n",
    "RF.fit(train, train_l)\n",
    "\n",
    "pred_rf = RF.predict(test)\n",
    "print('RF Test Accuracy:', accuracy_score(test_l, pred_rf) * 100)"
   ]
  },
  {
   "cell_type": "code",
   "execution_count": 13,
   "metadata": {},
   "outputs": [
    {
     "name": "stdout",
     "output_type": "stream",
     "text": [
      "NB Test Accuracy: 85.64500484966052\n"
     ]
    }
   ],
   "source": [
    "NB = GaussianNB(priors=(0.7, 0.3))\n",
    "NB.fit(train, train_l)\n",
    "\n",
    "pred_nb = NB.predict(test)\n",
    "print('NB Test Accuracy:', accuracy_score(test_l, pred_nb) * 100)"
   ]
  },
  {
   "cell_type": "markdown",
   "metadata": {},
   "source": [
    "&nbsp;&nbsp;&nbsp;&nbsp;&nbsp;As predicted prior to the training phase, Random Forest and SVM reached the best classification accuracy that is manifested in the confusion matrices of all the classifiers' test results when compared against each other. Naive Bayes performed subpar, classifying only 85% of the emails correctly, and misclassifying almost half of all the spam emails in the dataset as non-spam emails, which confirms its bias towards a class with a greater number of examples.\\\n",
    "&nbsp;&nbsp;&nbsp;&nbsp;&nbsp;Overall, the differences in the performances of SVM, Random Forest, and Logistic Regression classifiers are not substantial with all the three classifiers producing >95% accuracy results."
   ]
  },
  {
   "cell_type": "code",
   "execution_count": 16,
   "metadata": {},
   "outputs": [
    {
     "data": {
      "image/png": "[encoded data removed]",
      "text/plain": [
       "<Figure size 864x432 with 4 Axes>"
      ]
     },
     "metadata": {
      "needs_background": "light"
     },
     "output_type": "display_data"
    }
   ],
   "source": [
    "cmat_svm = confusion_matrix(test_l, pred_svm)\n",
    "cmat_lr = confusion_matrix(test_l, pred_lr)\n",
    "cmat_rf = confusion_matrix(test_l, pred_rf)\n",
    "cmat_nb = confusion_matrix(test_l, pred_nb)\n",
    "fig = plt.figure(figsize=(12,6))\n",
    "fig.suptitle('Confusion Matrices (Rows - Actual, Columns - Predicted)', fontsize=16);\n",
    "plt.subplot(2, 2, 1)\n",
    "plt.title('\\n\\nConfusion Matrix - SVM')\n",
    "sns.heatmap(cmat_svm, annot = True, cmap = 'Paired', cbar = False, fmt=\"d\", xticklabels=['Not Spam', 'Spam'], yticklabels=['Not Spam', 'Spam'])\n",
    "plt.subplot(2, 2, 2)\n",
    "plt.title('Confusion Matrix - Logistic Regression')\n",
    "sns.heatmap(cmat_lr, annot = True, cmap = 'Paired', cbar = False, fmt=\"d\", xticklabels=['Not Spam', 'Spam'], yticklabels=['Not Spam', 'Spam'])\n",
    "plt.subplot(2, 2, 3)\n",
    "plt.title('Confusion Matrix - Random Forest')\n",
    "sns.heatmap(cmat_rf, annot = True, cmap = 'Paired', cbar = False, fmt=\"d\", xticklabels=['Not Spam', 'Spam'], yticklabels=['Not Spam', 'Spam'])\n",
    "plt.subplot(2, 2, 4)\n",
    "plt.title('Confusion Matrix - Naive Bayes')\n",
    "sns.heatmap(cmat_nb, annot = True, cmap = 'Paired', cbar = False, fmt=\"d\", xticklabels=['Not Spam', 'Spam'], yticklabels=['Not Spam', 'Spam'])\n",
    "plt.tight_layout()\n",
    "plt.savefig('cm.png')"
   ]
  },
  {
   "cell_type": "code",
   "execution_count": 17,
   "metadata": {},
   "outputs": [
    {
     "name": "stdout",
     "output_type": "stream",
     "text": [
      "Classification Report - LR:\n",
      "               precision    recall  f1-score   support\n",
      "\n",
      "           0       0.97      0.97      0.97       729\n",
      "           1       0.93      0.92      0.92       302\n",
      "\n",
      "    accuracy                           0.96      1031\n",
      "   macro avg       0.95      0.94      0.95      1031\n",
      "weighted avg       0.96      0.96      0.96      1031\n",
      " \n",
      "Classification Report - SVM:\n",
      "               precision    recall  f1-score   support\n",
      "\n",
      "           0       0.97      0.98      0.98       729\n",
      "           1       0.95      0.93      0.94       302\n",
      "\n",
      "    accuracy                           0.97      1031\n",
      "   macro avg       0.96      0.95      0.96      1031\n",
      "weighted avg       0.96      0.97      0.96      1031\n",
      " \n",
      "Classification Report - RF:\n",
      "               precision    recall  f1-score   support\n",
      "\n",
      "           0       0.98      0.98      0.98       729\n",
      "           1       0.95      0.94      0.95       302\n",
      "\n",
      "    accuracy                           0.97      1031\n",
      "   macro avg       0.96      0.96      0.96      1031\n",
      "weighted avg       0.97      0.97      0.97      1031\n",
      " \n",
      "Classification Report - NB:\n",
      "               precision    recall  f1-score   support\n",
      "\n",
      "           0       0.84      0.99      0.91       729\n",
      "           1       0.95      0.54      0.69       302\n",
      "\n",
      "    accuracy                           0.86      1031\n",
      "   macro avg       0.89      0.76      0.80      1031\n",
      "weighted avg       0.87      0.86      0.84      1031\n",
      "\n"
     ]
    }
   ],
   "source": [
    "print('Classification Report - LR:\\n', classification_report(test_l, pred_lr),\n",
    "      '\\nClassification Report - SVM:\\n', classification_report(test_l, pred_svm),\n",
    "     '\\nClassification Report - RF:\\n', classification_report(test_l, pred_rf),\n",
    "     '\\nClassification Report - NB:\\n', classification_report(test_l, pred_nb))"
   ]
  },
  {
   "cell_type": "code",
   "execution_count": null,
   "metadata": {},
   "outputs": [],
   "source": []
  }
 ],
 "metadata": {
  "kernelspec": {
   "display_name": "Python 3",
   "language": "python",
   "name": "python3"
  },
  "language_info": {
   "codemirror_mode": {
    "name": "ipython",
    "version": 3
   },
   "file_extension": ".py",
   "mimetype": "text/x-python",
   "name": "python",
   "nbconvert_exporter": "python",
   "pygments_lexer": "ipython3",
   "version": "3.7.4"
  }
 },
 "nbformat": 4,
 "nbformat_minor": 2
}
